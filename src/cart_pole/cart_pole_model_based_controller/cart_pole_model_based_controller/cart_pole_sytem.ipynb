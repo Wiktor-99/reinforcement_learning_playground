{
 "cells": [
  {
   "cell_type": "markdown",
   "metadata": {},
   "source": [
    "## Calculations"
   ]
  },
  {
   "cell_type": "code",
   "execution_count": 1,
   "metadata": {},
   "outputs": [
    {
     "data": {
      "image/png": "[encoded data removed]",
      "text/latex": [
       "$\\displaystyle l \\cos{\\left(\\theta \\right)} \\dot{\\theta} + \\dot{x}$"
      ],
      "text/plain": [
       "l⋅cos(θ)⋅θ̇ + ẋ"
      ]
     },
     "metadata": {},
     "output_type": "display_data"
    },
    {
     "data": {
      "image/png": "[encoded data removed]",
      "text/latex": [
       "$\\displaystyle - l \\sin{\\left(\\theta \\right)} \\dot{\\theta}$"
      ],
      "text/plain": [
       "-l⋅sin(θ)⋅θ̇"
      ]
     },
     "metadata": {},
     "output_type": "display_data"
    },
    {
     "data": {
      "image/png": "[encoded data removed]",
      "text/latex": [
       "$\\displaystyle - l \\sin{\\left(\\theta \\right)} \\dot{\\theta}^{2} + l \\cos{\\left(\\theta \\right)} \\ddot{\\theta} + \\ddot{x}$"
      ],
      "text/plain": [
       "            2                 \n",
       "- l⋅sin(θ)⋅θ̇  + l⋅cos(θ)⋅θ̈ + ẍ"
      ]
     },
     "metadata": {},
     "output_type": "display_data"
    },
    {
     "data": {
      "image/png": "[encoded data removed]",
      "text/latex": [
       "$\\displaystyle - l \\sin{\\left(\\theta \\right)} \\ddot{\\theta} - l \\cos{\\left(\\theta \\right)} \\dot{\\theta}^{2}$"
      ],
      "text/plain": [
       "                        2\n",
       "-l⋅sin(θ)⋅θ̈ - l⋅cos(θ)⋅θ̇ "
      ]
     },
     "metadata": {},
     "output_type": "display_data"
    }
   ],
   "source": [
    "from sympy import Symbol, cos, sin, Rational, Matrix\n",
    "from sympy.physics.mechanics import dynamicsymbols, mechanics_printing, mprint\n",
    "from IPython.display import display\n",
    "\n",
    "mechanics_printing()\n",
    "\n",
    "time = Symbol(\"t\")\n",
    "cart_position = dynamicsymbols(\"x\")\n",
    "pole_angle = dynamicsymbols(\"theta\")\n",
    "cart_velocity = cart_position.diff()\n",
    "pole_angular_velocity = pole_angle.diff()\n",
    "pendulums_length = Symbol(\"l\")\n",
    "pendulum_mass_kg = Symbol(\"m\")\n",
    "pole_inertia = Symbol(\"i_p\")\n",
    "cart_mass_kg = Symbol(\"m_c\")\n",
    "g = Symbol(\"g\")\n",
    "\n",
    "x_position = cart_position + pendulums_length * sin(pole_angle)\n",
    "y_position = pendulums_length * cos(pole_angle)\n",
    "\n",
    "x_velocity = x_position.diff(time)\n",
    "y_velocity = y_position.diff(time)\n",
    "\n",
    "display(x_velocity)\n",
    "display(y_velocity)\n",
    "\n",
    "x_accelerations = x_velocity.diff(time)\n",
    "y_accelerations = y_velocity.diff(time)\n",
    "\n",
    "display(x_accelerations)\n",
    "display(y_accelerations)"
   ]
  },
  {
   "cell_type": "code",
   "execution_count": 2,
   "metadata": {},
   "outputs": [
    {
     "data": {
      "text/latex": [
       "$\\displaystyle \\left[\\begin{matrix}\\frac{i_{p} \\dot{\\theta}^{2}}{2} + \\frac{m \\left(l^{2} \\dot{\\theta}^{2} + 2 l \\cos{\\left(\\theta \\right)} \\dot{\\theta} \\dot{x} + \\dot{x}^{2}\\right)}{2}\\\\\\frac{m_{c} \\dot{x}^{2}}{2}\\end{matrix}\\right]$"
      ],
      "text/plain": [
       "⎡    2     ⎛ 2  2                     2⎞⎤\n",
       "⎢iₚ⋅θ̇    m⋅⎝l ⋅θ̇  + 2⋅l⋅cos(θ)⋅θ̇⋅ẋ + ẋ ⎠⎥\n",
       "⎢───── + ───────────────────────────────⎥\n",
       "⎢  2                    2               ⎥\n",
       "⎢                                       ⎥\n",
       "⎢                     2                 ⎥\n",
       "⎢                m_c⋅ẋ                  ⎥\n",
       "⎢                ──────                 ⎥\n",
       "⎣                  2                    ⎦"
      ]
     },
     "metadata": {},
     "output_type": "display_data"
    }
   ],
   "source": [
    "velocity = (x_velocity**2 + y_velocity**2).simplify()\n",
    "pole_kinetic_energy = (\n",
    "    Rational(1, 2) * pendulum_mass_kg * velocity + Rational(1, 2) * pole_inertia * pole_angular_velocity**2\n",
    ")\n",
    "cart_kinetic_energy = Rational(1, 2) * cart_mass_kg * (cart_velocity**2)\n",
    "kinetic_energy = Matrix([pole_kinetic_energy, cart_kinetic_energy])\n",
    "\n",
    "display(kinetic_energy)"
   ]
  },
  {
   "cell_type": "code",
   "execution_count": 3,
   "metadata": {},
   "outputs": [
    {
     "data": {
      "text/latex": [
       "$\\displaystyle \\left[\\begin{matrix}g l m \\cos{\\left(\\theta \\right)}\\\\0\\end{matrix}\\right]$"
      ],
      "text/plain": [
       "⎡g⋅l⋅m⋅cos(θ)⎤\n",
       "⎢            ⎥\n",
       "⎣     0      ⎦"
      ]
     },
     "metadata": {},
     "output_type": "display_data"
    }
   ],
   "source": [
    "potential_energy = Matrix([pendulum_mass_kg * g * pendulums_length * cos(pole_angle), 0])\n",
    "display(potential_energy)"
   ]
  },
  {
   "cell_type": "code",
   "execution_count": 4,
   "metadata": {},
   "outputs": [
    {
     "data": {
      "image/png": "[encoded data removed]",
      "text/latex": [
       "$\\displaystyle - g l m \\cos{\\left(\\theta \\right)} + \\frac{i_{p} \\dot{\\theta}^{2}}{2} + \\frac{m \\left(l^{2} \\dot{\\theta}^{2} + 2 l \\cos{\\left(\\theta \\right)} \\dot{\\theta} \\dot{x} + \\dot{x}^{2}\\right)}{2} + \\frac{m_{c} \\dot{x}^{2}}{2}$"
      ],
      "text/plain": [
       "                    2     ⎛ 2  2                     2⎞        2\n",
       "                iₚ⋅θ̇    m⋅⎝l ⋅θ̇  + 2⋅l⋅cos(θ)⋅θ̇⋅ẋ + ẋ ⎠   m_c⋅ẋ \n",
       "-g⋅l⋅m⋅cos(θ) + ───── + ─────────────────────────────── + ──────\n",
       "                  2                    2                    2   "
      ]
     },
     "metadata": {},
     "output_type": "display_data"
    }
   ],
   "source": [
    "lagrangian = kinetic_energy[0] + kinetic_energy[1] - potential_energy[0] - potential_energy[1]\n",
    "display(lagrangian)"
   ]
  },
  {
   "cell_type": "code",
   "execution_count": 5,
   "metadata": {},
   "outputs": [
    {
     "data": {
      "text/latex": [
       "$\\displaystyle \\left[\\begin{matrix}0\\\\g l m \\sin{\\left(\\theta \\right)} - l m \\sin{\\left(\\theta \\right)} \\dot{\\theta} \\dot{x}\\end{matrix}\\right]$"
      ],
      "text/plain": [
       "⎡              0              ⎤\n",
       "⎢                             ⎥\n",
       "⎣g⋅l⋅m⋅sin(θ) - l⋅m⋅sin(θ)⋅θ̇⋅ẋ⎦"
      ]
     },
     "metadata": {},
     "output_type": "display_data"
    },
    {
     "data": {
      "image/png": "[encoded data removed]",
      "text/latex": [
       "$\\displaystyle - g l m \\sin{\\left(\\theta \\right)} + i_{p} \\ddot{\\theta} + l^{2} m \\ddot{\\theta} + l m \\cos{\\left(\\theta \\right)} \\ddot{x} = 0$"
      ],
      "text/plain": [
       "                        2                       \n",
       "-g⋅l⋅m⋅sin(θ) + iₚ⋅θ̈ + l ⋅m⋅θ̈ + l⋅m⋅cos(θ)⋅ẍ = 0"
      ]
     },
     "metadata": {},
     "output_type": "display_data"
    },
    {
     "data": {
      "image/png": "[encoded data removed]",
      "text/latex": [
       "$\\displaystyle i_{p} + l^{2} m$"
      ],
      "text/plain": [
       "      2  \n",
       "iₚ + l ⋅m"
      ]
     },
     "metadata": {},
     "output_type": "display_data"
    },
    {
     "data": {
      "image/png": "[encoded data removed]",
      "text/latex": [
       "$\\displaystyle \\left(i_{p} + l^{2} m\\right) \\ddot{\\theta} = - l m \\left(- g \\sin{\\left(\\theta \\right)} + \\cos{\\left(\\theta \\right)} \\ddot{x}\\right)$"
      ],
      "text/plain": [
       "⎛      2  ⎞                                \n",
       "⎝iₚ + l ⋅m⎠⋅θ̈ = -l⋅m⋅(-g⋅sin(θ) + cos(θ)⋅ẍ)"
      ]
     },
     "metadata": {},
     "output_type": "display_data"
    },
    {
     "data": {
      "image/png": "[encoded data removed]",
      "text/latex": [
       "$\\displaystyle \\ddot{\\theta} = \\frac{l m \\left(g \\sin{\\left(\\theta \\right)} - \\cos{\\left(\\theta \\right)} \\ddot{x}\\right)}{i_{p} + l^{2} m}$"
      ],
      "text/plain": [
       "    l⋅m⋅(g⋅sin(θ) - cos(θ)⋅ẍ)\n",
       "θ̈ = ─────────────────────────\n",
       "                  2          \n",
       "            iₚ + l ⋅m        "
      ]
     },
     "metadata": {},
     "output_type": "display_data"
    },
    {
     "data": {
      "image/png": "[encoded data removed]",
      "text/latex": [
       "$\\displaystyle \\ddot{x} = - \\frac{- f i_{p} - f l^{2} m + \\frac{g l^{2} m^{2} \\sin{\\left(2 \\theta \\right)}}{2} - i_{p} l m \\sin{\\left(\\theta \\right)} \\dot{\\theta}^{2} - l^{3} m^{2} \\sin{\\left(\\theta \\right)} \\dot{\\theta}^{2}}{i_{p} m + i_{p} m_{c} + l^{2} m^{2} \\sin^{2}{\\left(\\theta \\right)} + l^{2} m m_{c}}$"
      ],
      "text/plain": [
       "     ⎛                    2  2                                              ⎞ \n",
       "     ⎜           2     g⋅l ⋅m ⋅sin(2⋅θ)                  2    3  2         2⎟ \n",
       "    -⎜-f⋅iₚ - f⋅l ⋅m + ──────────────── - iₚ⋅l⋅m⋅sin(θ)⋅θ̇  - l ⋅m ⋅sin(θ)⋅θ̇ ⎟ \n",
       "     ⎝                        2                                             ⎠ \n",
       "ẍ = ──────────────────────────────────────────────────────────────────────────\n",
       "                                      2  2    2       2                       \n",
       "                     iₚ⋅m + iₚ⋅m_c + l ⋅m ⋅sin (θ) + l ⋅m⋅m_c                 "
      ]
     },
     "metadata": {},
     "output_type": "display_data"
    },
    {
     "data": {
      "image/png": "[encoded data removed]",
      "text/latex": [
       "$\\displaystyle \\ddot{\\theta} = \\frac{l m \\left(2 g \\left(i_{p} m + i_{p} m_{c} + l^{2} m^{2} \\sin^{2}{\\left(\\theta \\right)} + l^{2} m m_{c}\\right) \\sin{\\left(\\theta \\right)} - \\left(2 f i_{p} + 2 f l^{2} m - g l^{2} m^{2} \\sin{\\left(2 \\theta \\right)} + 2 i_{p} l m \\sin{\\left(\\theta \\right)} \\dot{\\theta}^{2} + 2 l^{3} m^{2} \\sin{\\left(\\theta \\right)} \\dot{\\theta}^{2}\\right) \\cos{\\left(\\theta \\right)}\\right)}{2 \\left(i_{p} + l^{2} m\\right) \\left(i_{p} m + i_{p} m_{c} + l^{2} m^{2} \\sin^{2}{\\left(\\theta \\right)} + l^{2} m m_{c}\\right)}$"
      ],
      "text/plain": [
       "        ⎛    ⎛                 2  2    2       2      ⎞          ⎛            \n",
       "    l⋅m⋅⎝2⋅g⋅⎝iₚ⋅m + iₚ⋅m_c + l ⋅m ⋅sin (θ) + l ⋅m⋅m_c⎠⋅sin(θ) - ⎝2⋅f⋅iₚ + 2⋅f\n",
       "θ̈ = ─────────────────────────────────────────────────────────────────────────\n",
       "                                                    ⎛      2  ⎞ ⎛             \n",
       "                                                  2⋅⎝iₚ + l ⋅m⎠⋅⎝iₚ⋅m + iₚ⋅m_c\n",
       "\n",
       "  2        2  2                             2      3  2         2⎞       ⎞\n",
       "⋅l ⋅m - g⋅l ⋅m ⋅sin(2⋅θ) + 2⋅iₚ⋅l⋅m⋅sin(θ)⋅θ̇  + 2⋅l ⋅m ⋅sin(θ)⋅θ̇ ⎠⋅cos(θ)⎠\n",
       "───────────────────────────────────────────────────────────────────────────\n",
       "    2  2    2       2      ⎞                                              \n",
       " + l ⋅m ⋅sin (θ) + l ⋅m⋅m_c⎠                                              "
      ]
     },
     "metadata": {},
     "output_type": "display_data"
    }
   ],
   "source": [
    "from sympy import *\n",
    "\n",
    "\n",
    "q = Matrix([cart_position, pole_angle])\n",
    "qd = Matrix([cart_velocity, pole_angular_velocity])\n",
    "d_lagrangian_dx = lagrangian.diff(q)\n",
    "d_lagrangian_ddx = lagrangian.diff(qd)\n",
    "d_lagrangian_ddx_dt = d_lagrangian_ddx.diff(time)\n",
    "\n",
    "lagrangian_equation = d_lagrangian_ddx_dt - d_lagrangian_dx\n",
    "display(d_lagrangian_dx)\n",
    "\n",
    "control_function = Symbol(\"f\")\n",
    "\n",
    "q2_lagrangian_equation = Equality(lagrangian_equation[1].simplify(), 0)\n",
    "display(q2_lagrangian_equation)\n",
    "angular_accelerations_coefficients = q2_lagrangian_equation.lhs.coeff(pole_angular_velocity.diff())\n",
    "display(angular_accelerations_coefficients)\n",
    "q2_lagrangian_equation = Equality(q2_lagrangian_equation.lhs - angular_accelerations_coefficients * pole_angular_velocity.diff(), q2_lagrangian_equation.rhs - angular_accelerations_coefficients * pole_angular_velocity.diff()).simplify()\n",
    "display(q2_lagrangian_equation)\n",
    "q2_lagrangian_equation = Equality(q2_lagrangian_equation.lhs  / angular_accelerations_coefficients, q2_lagrangian_equation.rhs / angular_accelerations_coefficients).simplify()\n",
    "display(q2_lagrangian_equation)\n",
    "\n",
    "q1_lagrangian_equation = Equality(lagrangian_equation[0].expand(), control_function)\n",
    "q1_lagrangian_equation = q1_lagrangian_equation.subs(pole_angular_velocity.diff(), q2_lagrangian_equation.rhs.simplify())\n",
    "q1_lagrangian_equation = Equality(q1_lagrangian_equation.lhs - control_function, q1_lagrangian_equation.rhs - control_function)\n",
    "q1_lagrangian_equation = Equality(q1_lagrangian_equation.lhs.expand(), q1_lagrangian_equation.rhs)\n",
    "cart_accelerations_coefficients = q1_lagrangian_equation.lhs.coeff(cart_velocity.diff())\n",
    "q1_lagrangian_equation = Equality(q1_lagrangian_equation.lhs - cart_accelerations_coefficients*cart_velocity.diff(), q1_lagrangian_equation.rhs - cart_accelerations_coefficients*cart_velocity.diff())\n",
    "q1_lagrangian_equation = Equality(q1_lagrangian_equation.lhs / cart_accelerations_coefficients, q1_lagrangian_equation.rhs / cart_accelerations_coefficients).simplify()\n",
    "display(q1_lagrangian_equation)\n",
    "\n",
    "\n",
    "q2_lagrangian_equation = q2_lagrangian_equation.subs(cart_velocity.diff(), q1_lagrangian_equation.rhs).simplify()\n",
    "display(q2_lagrangian_equation)\n",
    "\n",
    "state_derivative = Matrix([cart_velocity, pole_angular_velocity, q1_lagrangian_equation.rhs.expand(), q2_lagrangian_equation.rhs.simplify()])"
   ]
  },
  {
   "cell_type": "code",
   "execution_count": 6,
   "metadata": {},
   "outputs": [
    {
     "data": {
      "text/latex": [
       "$\\displaystyle \\left[\\begin{matrix}0 & 0 & 1 & 0\\\\0 & 0 & 0 & 1\\\\0 & - \\frac{g l^{2} m^{2}}{i_{p} m + i_{p} m_{c} + l^{2} m m_{c}} & 0 & 0\\\\0 & \\frac{l m \\left(g m + g m_{c}\\right)}{i_{p} m + i_{p} m_{c} + l^{2} m m_{c}} & 0 & 0\\end{matrix}\\right]$"
      ],
      "text/plain": [
       "⎡0             0              1  0⎤\n",
       "⎢                                 ⎥\n",
       "⎢0             0              0  1⎥\n",
       "⎢                                 ⎥\n",
       "⎢              2  2               ⎥\n",
       "⎢          -g⋅l ⋅m                ⎥\n",
       "⎢0  ────────────────────────  0  0⎥\n",
       "⎢                    2            ⎥\n",
       "⎢   iₚ⋅m + iₚ⋅m_c + l ⋅m⋅m_c      ⎥\n",
       "⎢                                 ⎥\n",
       "⎢      l⋅m⋅(g⋅m + g⋅m_c)          ⎥\n",
       "⎢0  ────────────────────────  0  0⎥\n",
       "⎢                    2            ⎥\n",
       "⎣   iₚ⋅m + iₚ⋅m_c + l ⋅m⋅m_c      ⎦"
      ]
     },
     "metadata": {},
     "output_type": "display_data"
    },
    {
     "data": {
      "text/latex": [
       "$\\displaystyle \\left[\\begin{matrix}0\\\\0\\\\\\frac{i_{p} + l^{2} m}{i_{p} m + i_{p} m_{c} + l^{2} m m_{c}}\\\\- \\frac{l m}{i_{p} m + i_{p} m_{c} + l^{2} m m_{c}}\\end{matrix}\\right]$"
      ],
      "text/plain": [
       "⎡           0            ⎤\n",
       "⎢                        ⎥\n",
       "⎢           0            ⎥\n",
       "⎢                        ⎥\n",
       "⎢             2          ⎥\n",
       "⎢       iₚ + l ⋅m        ⎥\n",
       "⎢────────────────────────⎥\n",
       "⎢                 2      ⎥\n",
       "⎢iₚ⋅m + iₚ⋅m_c + l ⋅m⋅m_c⎥\n",
       "⎢                        ⎥\n",
       "⎢         -l⋅m           ⎥\n",
       "⎢────────────────────────⎥\n",
       "⎢                 2      ⎥\n",
       "⎣iₚ⋅m + iₚ⋅m_c + l ⋅m⋅m_c⎦"
      ]
     },
     "metadata": {},
     "output_type": "display_data"
    }
   ],
   "source": [
    "state_matrix = state_derivative.jacobian([cart_position, pole_angle, cart_velocity, pole_angular_velocity]).subs(pole_angle, 0)\n",
    "input_matrix = state_derivative.jacobian([control_function]).subs(pole_angle, 0)\n",
    "\n",
    "display(simplify(Matrix(state_matrix)))\n",
    "display(simplify(Matrix(input_matrix)))"
   ]
  },
  {
   "cell_type": "markdown",
   "metadata": {},
   "source": [
    "## In result we get\n",
    "\n",
    "$$\n",
    "\n",
    "\\left[\\begin{matrix}\\dot{x}\\\\\\dot{\\theta}\\\\\\ddot{x}\\\\\\ddot{\\theta}\\end{matrix}\\right]\n",
    "= \n",
    "\\left[\\begin{matrix}0 & 0 & 1 & 0\\\\0 & 0 & 0 & 1\\\\0 & - \\frac{g l^{2} m^{2}}{i_{p} m + i_{p} m_{c} + l^{2} m m_{c}} & 0 & 0\\\\0 & \\frac{l m \\left(g m + g m_{c}\\right)}{i_{p} m + i_{p} m_{c} + l^{2} m m_{c}} & 0 & 0\\end{matrix}\\right]  \\left[\\begin{matrix}x\\\\\\theta\\\\\\dot{x}\\\\\\dot{\\theta}\\end{matrix}\\right] + \\left[\\begin{matrix}0\\\\0\\\\\\frac{i_{p} + l^{2} m}{i_{p} m + i_{p} m_{c} + l^{2} m m_{c}}\\\\- \\frac{l m}{i_{p} m + i_{p} m_{c} + l^{2} m m_{c}}\\end{matrix}\\right] f\n",
    "\n",
    "$$"
   ]
  },
  {
   "cell_type": "code",
   "execution_count": 7,
   "metadata": {},
   "outputs": [],
   "source": [
    "import numpy as np\n",
    "import control\n",
    "from scipy.signal import lsim, lti\n",
    "import matplotlib.pyplot as plt\n",
    "\n",
    "def get_state_matrix(length_to_pendulums_center_mass, pendulum_mass_kg, cart_mass_kg, pole_inertia):\n",
    "    g = 9.81\n",
    "    return np.array(\n",
    "        [\n",
    "            [0, 0, 1, 0],\n",
    "            [0, 0, 0, 1],\n",
    "            [\n",
    "                0,\n",
    "                -g\n",
    "                * length_to_pendulums_center_mass**2\n",
    "                * pendulum_mass_kg**2\n",
    "                / (\n",
    "                    pole_inertia * cart_mass_kg\n",
    "                    + pole_inertia * pendulum_mass_kg\n",
    "                    + cart_mass_kg * length_to_pendulums_center_mass**2 * pendulum_mass_kg\n",
    "                ),\n",
    "                0,\n",
    "                0,\n",
    "            ],\n",
    "            [\n",
    "                0,\n",
    "                g\n",
    "                * length_to_pendulums_center_mass\n",
    "                * pendulum_mass_kg\n",
    "                * (cart_mass_kg + pendulum_mass_kg)\n",
    "                / (\n",
    "                    pole_inertia * cart_mass_kg\n",
    "                    + pole_inertia * pendulum_mass_kg\n",
    "                    + cart_mass_kg * length_to_pendulums_center_mass**2 * pendulum_mass_kg\n",
    "                ),\n",
    "                0,\n",
    "                0,\n",
    "            ],\n",
    "        ]\n",
    "    )\n",
    "\n",
    "\n",
    "def get_input_matrix(length_to_pendulums_center_mass, pendulum_mass_kg, cart_mass_kg, pole_inertia):\n",
    "    return np.array(\n",
    "        [\n",
    "            [0],\n",
    "            [0],\n",
    "            [\n",
    "                (-pole_inertia - length_to_pendulums_center_mass**2 * pendulum_mass_kg)\n",
    "                / (\n",
    "                    -pole_inertia * cart_mass_kg\n",
    "                    - pole_inertia * pendulum_mass_kg\n",
    "                    - cart_mass_kg * length_to_pendulums_center_mass**2 * pendulum_mass_kg\n",
    "                )\n",
    "            ],\n",
    "            [\n",
    "                length_to_pendulums_center_mass\n",
    "                * pendulum_mass_kg\n",
    "                / (\n",
    "                    -pole_inertia * cart_mass_kg\n",
    "                    - pole_inertia * pendulum_mass_kg\n",
    "                    - cart_mass_kg * length_to_pendulums_center_mass**2 * pendulum_mass_kg\n",
    "                )\n",
    "            ],\n",
    "        ]\n",
    "    )\n"
   ]
  },
  {
   "cell_type": "code",
   "execution_count": 8,
   "metadata": {},
   "outputs": [
    {
     "name": "stdout",
     "output_type": "stream",
     "text": [
      "Controllability matrix's rank: 4\n",
      "Eigen values of state matrix (A): [ 0.          0.          4.33373483 -4.33373483]\n"
     ]
    }
   ],
   "source": [
    "pendulum_mass_kg = 0.455\n",
    "cart_mass_kg = 1.006\n",
    "length_to_pendulums_center_mass = 0.435057\n",
    "pole_inertia = 0.044096\n",
    "\n",
    "state_matrix = get_state_matrix(length_to_pendulums_center_mass, pendulum_mass_kg, cart_mass_kg, pole_inertia)\n",
    "input_matrix = get_input_matrix(length_to_pendulums_center_mass, pendulum_mass_kg, cart_mass_kg, pole_inertia)\n",
    "controllability_matrix = control.ctrb(state_matrix, input_matrix)\n",
    "\n",
    "\n",
    "print(f\"Controllability matrix's rank: {np.linalg.matrix_rank(controllability_matrix, tol=1.0e-10)}\")\n",
    "print(f\"Eigen values of state matrix (A): {np.linalg.eigvals(state_matrix)}\")"
   ]
  },
  {
   "cell_type": "code",
   "execution_count": 9,
   "metadata": {},
   "outputs": [
    {
     "name": "stdout",
     "output_type": "stream",
     "text": [
      "Controller (K): [[ -1.86696764 -42.26984303  -3.88951591 -10.18982873]]\n",
      "System with new eigen values after adding controller: [-4. -3. -2. -1.]\n",
      "Controllability matrix's rank: 4\n"
     ]
    }
   ],
   "source": [
    "poles = [-1, -2, -3, -4]\n",
    "controller = control.place(state_matrix, input_matrix, poles)\n",
    "print(f\"Controller (K): {controller}\")\n",
    "\n",
    "state_matrix_new_eigen_values = state_matrix - input_matrix @ controller\n",
    "print(f\"System with new eigen values after adding controller: {np.linalg.eigvals(state_matrix_new_eigen_values)}\")\n",
    "\n",
    "controllability_matrix_with_new_eigen_values = control.ctrb(state_matrix_new_eigen_values, input_matrix)\n",
    "print(\n",
    "    f\"Controllability matrix's rank: {np.linalg.matrix_rank(controllability_matrix_with_new_eigen_values, tol=1.0e-10)}\"\n",
    ")"
   ]
  },
  {
   "cell_type": "code",
   "execution_count": 10,
   "metadata": {},
   "outputs": [
    {
     "name": "stdout",
     "output_type": "stream",
     "text": [
      "State: [0.5 0.1 0.  0.1]\n",
      "States to use in controller: [0 1 0 1]\n",
      "Controller with certain states being used: [[ -0.         -42.26984303  -0.         -10.18982873]]\n",
      "Controller's: [-5.24596718]\n"
     ]
    }
   ],
   "source": [
    "states_used_in_control_loop = np.array([0, 1, 0, 1])\n",
    "state_vector = np.array([0.5, 0.1, 0, 0.1])\n",
    "\n",
    "print(f\"State: {state_vector}\")\n",
    "print(f\"States to use in controller: {states_used_in_control_loop}\")\n",
    "print(f\"Controller with certain states being used: {controller * states_used_in_control_loop}\")\n",
    "print(f\"Controller's: {np.dot(controller * states_used_in_control_loop, state_vector)}\")"
   ]
  },
  {
   "cell_type": "code",
   "execution_count": 11,
   "metadata": {},
   "outputs": [
    {
     "data": {
      "image/png": "[encoded data removed]",
      "text/plain": [
       "<Figure size 640x480 with 1 Axes>"
      ]
     },
     "metadata": {},
     "output_type": "display_data"
    }
   ],
   "source": [
    "D = 0.0\n",
    "system = lti(state_matrix_new_eigen_values, input_matrix, states_used_in_control_loop, D)\n",
    "time = np.linspace(0, 50, num=200)\n",
    "u = np.ones_like(time)\n",
    "_, y, x = lsim(system, u, time)\n",
    "plt.plot(time, y)\n",
    "plt.grid(alpha=0.3)\n",
    "plt.xlabel(\"time\")\n",
    "plt.show()"
   ]
  }
 ],
 "metadata": {
  "kernelspec": {
   "display_name": "Python 3",
   "language": "python",
   "name": "python3"
  },
  "language_info": {
   "codemirror_mode": {
    "name": "ipython",
    "version": 3
   },
   "file_extension": ".py",
   "mimetype": "text/x-python",
   "name": "python",
   "nbconvert_exporter": "python",
   "pygments_lexer": "ipython3",
   "version": "3.12.3"
  }
 },
 "nbformat": 4,
 "nbformat_minor": 2
}
