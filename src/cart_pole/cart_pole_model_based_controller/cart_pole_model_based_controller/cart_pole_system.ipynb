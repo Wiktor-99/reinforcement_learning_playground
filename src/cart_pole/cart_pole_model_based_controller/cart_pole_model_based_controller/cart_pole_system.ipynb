{
 "cells": [
  {
   "cell_type": "markdown",
   "metadata": {},
   "source": [
    "## The cart pole problem\n",
    "![cart pole](../../../../img/cart_pole_system.png \" \")"
   ]
  },
  {
   "cell_type": "markdown",
   "metadata": {},
   "source": [
    "## Below you can find the calculations to solve model control problem"
   ]
  },
  {
   "cell_type": "code",
   "execution_count": null,
   "metadata": {},
   "outputs": [],
   "source": [
    "from sympy import Symbol, cos, sin, Rational, Matrix, Equality, simplify\n",
    "from sympy.physics.mechanics import dynamicsymbols, mechanics_printing\n",
    "from IPython.display import display\n",
    "\n",
    "mechanics_printing()\n",
    "\n",
    "time = Symbol(\"t\")\n",
    "cart_position = dynamicsymbols(\"x\")\n",
    "pole_angle = dynamicsymbols(\"theta\")\n",
    "cart_velocity = cart_position.diff()\n",
    "pole_angular_velocity = pole_angle.diff()\n",
    "pendulums_length = Symbol(\"l\")\n",
    "pendulum_mass_kg = Symbol(\"m\")\n",
    "pole_inertia = Symbol(\"i_p\")\n",
    "cart_mass_kg = Symbol(\"m_c\")\n",
    "g = Symbol(\"g\")\n",
    "\n",
    "x_pole_position = cart_position + pendulums_length * sin(pole_angle)\n",
    "y_pole_position = pendulums_length * cos(pole_angle)\n",
    "\n",
    "x_velocity_position = x_pole_position.diff(time)\n",
    "y_velocity_position = y_pole_position.diff(time)\n",
    "\n",
    "display(x_velocity_position)\n",
    "display(y_velocity_position)\n",
    "\n",
    "x_accelerations = x_velocity_position.diff(time)\n",
    "y_accelerations = y_velocity_position.diff(time)\n",
    "\n",
    "display(x_accelerations)\n",
    "display(y_accelerations)\n"
   ]
  },
  {
   "cell_type": "markdown",
   "metadata": {},
   "source": [
    "## Velocities and accelerations of pendulum's end  \n",
    "$$\n",
    "\\dot{x_p} = l \\cos{\\left(\\theta \\right)} \\dot{\\theta} + \\dot{x}\n",
    "$$\n",
    "\n",
    "$$\n",
    "\\dot{y_p} = - l \\sin{\\left(\\theta \\right)} \\dot{\\theta}\n",
    "$$\n",
    "\n",
    "$$\n",
    "\\ddot{x_p} = - l \\sin{\\left(\\theta \\right)} \\dot{\\theta}^{2} + l \\cos{\\left(\\theta \\right)} \\ddot{\\theta} + \\ddot{x}\n",
    "$$\n",
    "\n",
    "$$\n",
    "\\ddot{y_p} = - l \\sin{\\left(\\theta \\right)} \\ddot{\\\\theta} - l \\cos{\\left(\\theta \\right)} \\dot{\\theta}^{2}\n",
    "$$"
   ]
  },
  {
   "cell_type": "code",
   "execution_count": null,
   "metadata": {},
   "outputs": [],
   "source": [
    "velocity = (x_velocity_position**2 + y_velocity_position**2).simplify()\n",
    "pole_kinetic_energy = (\n",
    "    Rational(1, 2) * pendulum_mass_kg * velocity + Rational(1, 2) * pole_inertia * pole_angular_velocity**2\n",
    ")\n",
    "cart_kinetic_energy = Rational(1, 2) * cart_mass_kg * (cart_velocity**2)\n",
    "kinetic_energy = Matrix([pole_kinetic_energy, cart_kinetic_energy])\n",
    "\n",
    "display(kinetic_energy)\n",
    "\n",
    "potential_energy = Matrix([pendulum_mass_kg * g * pendulums_length * cos(pole_angle), 0])\n",
    "display(potential_energy)"
   ]
  },
  {
   "cell_type": "markdown",
   "metadata": {},
   "source": [
    "## Pendulum's energies\n",
    "\n",
    "$$\n",
    "K = \\left[\\begin{matrix}\\frac{i_{p} \\dot{\\theta}^{2}}{2} + \\frac{m \\left(l^{2} \\dot{\\theta}^{2} + 2 l \\cos{\\left(\\theta \\right)} \\dot{\\theta} \\dot{x} + \\dot{x}^{2}\\right)}{2}\\\\\\frac{m_{c} \\dot{x}^{2}}{2}\\end{matrix}\\right]\n",
    "$$\n",
    "$$\n",
    "V = \\left[\\begin{matrix}g l m \\cos{\\left(\\theta \\right)}\\\\0\\end{matrix}\\right]\n",
    "$$"
   ]
  },
  {
   "cell_type": "code",
   "execution_count": null,
   "metadata": {},
   "outputs": [],
   "source": [
    "lagrangian = kinetic_energy[0] + kinetic_energy[1] - potential_energy[0] - potential_energy[1]\n",
    "display(lagrangian)"
   ]
  },
  {
   "cell_type": "markdown",
   "metadata": {},
   "source": [
    "## Lagrangian\n",
    "\n",
    "$$\n",
    "L = K - V\n",
    "$$\n",
    "\n",
    "$$\n",
    "L = - g l m \\cos{\\left(\\theta \\right)} + \\frac{i_{p} \\dot{\\theta}^{2}}{2} + \\frac{m \\left(l^{2} \\dot{\\theta}^{2} + 2 l \\cos{\\left(\\theta \\right)} \\dot{\\theta} \\dot{x} + \\dot{x}^{2}\\right)}{2} + \\frac{m_{c} \\dot{x}^{2}}{2}\n",
    "$$"
   ]
  },
  {
   "cell_type": "code",
   "execution_count": null,
   "metadata": {},
   "outputs": [],
   "source": [
    "q = Matrix([cart_position, pole_angle])\n",
    "qd = Matrix([cart_velocity, pole_angular_velocity])\n",
    "d_lagrangian_dx = lagrangian.diff(q)\n",
    "d_lagrangian_ddx = lagrangian.diff(qd)\n",
    "d_lagrangian_ddx_dt = d_lagrangian_ddx.diff(time)\n",
    "\n",
    "lagrangian_equation = d_lagrangian_ddx_dt - d_lagrangian_dx\n",
    "display(lagrangian_equation)"
   ]
  },
  {
   "cell_type": "markdown",
   "metadata": {},
   "source": [
    "### Lagrange's equations\n",
    "\n",
    "$$\n",
    "L = \\left[\\begin{matrix}\\frac{m \\left(- 2 l \\sin{\\left(\\theta \\right)} \\dot{\\theta}^{2} + 2 l \\cos{\\left(\\theta \\right)} \\ddot{\\theta} + 2 \\ddot{x}\\right)}{2} + m_{c} \\ddot{x}\\\\- g l m \\sin{\\left(\\theta \\right)} + i_{p} \\ddot{\\theta} + l m \\sin{\\left(\\theta \\right)} \\dot{\\theta} \\dot{x} + \\frac{m \\left(2 l^{2} \\ddot{\\theta} - 2 l \\sin{\\left(\\theta \\right)} \\dot{\\theta} \\dot{x} + 2 l \\cos{\\left(\\theta \\right)} \\ddot{x}\\right)}{2}\\end{matrix}\\right]\n",
    "$$\n"
   ]
  },
  {
   "cell_type": "code",
   "execution_count": null,
   "metadata": {},
   "outputs": [],
   "source": [
    "\n",
    "control_function = Symbol(\"f\")\n",
    "q2_lagrangian_equation = Equality(lagrangian_equation[1].simplify(), 0)\n",
    "display(q2_lagrangian_equation)\n",
    "angular_accelerations_coefficients = q2_lagrangian_equation.lhs.coeff(pole_angular_velocity.diff())\n",
    "q2_lagrangian_equation = Equality(q2_lagrangian_equation.lhs - angular_accelerations_coefficients * pole_angular_velocity.diff(), q2_lagrangian_equation.rhs - angular_accelerations_coefficients * pole_angular_velocity.diff()).simplify()\n",
    "display(q2_lagrangian_equation)\n",
    "q2_lagrangian_equation = Equality(q2_lagrangian_equation.lhs  / angular_accelerations_coefficients, q2_lagrangian_equation.rhs / angular_accelerations_coefficients).simplify()\n",
    "display(q2_lagrangian_equation)\n",
    "\n",
    "q1_lagrangian_equation = Equality(lagrangian_equation[0].expand(), control_function)\n",
    "display(q1_lagrangian_equation)\n",
    "q1_lagrangian_equation = q1_lagrangian_equation.subs(pole_angular_velocity.diff(), q2_lagrangian_equation.rhs.simplify())\n",
    "display(q1_lagrangian_equation)\n",
    "q1_lagrangian_equation = Equality(q1_lagrangian_equation.lhs - control_function, q1_lagrangian_equation.rhs - control_function)\n",
    "display(q1_lagrangian_equation)\n",
    "q1_lagrangian_equation = Equality(q1_lagrangian_equation.lhs.expand(), q1_lagrangian_equation.rhs)\n",
    "display(q1_lagrangian_equation)\n",
    "cart_accelerations_coefficients = q1_lagrangian_equation.lhs.coeff(cart_velocity.diff())\n",
    "q1_lagrangian_equation = Equality(q1_lagrangian_equation.lhs - cart_accelerations_coefficients*cart_velocity.diff(), q1_lagrangian_equation.rhs - cart_accelerations_coefficients*cart_velocity.diff())\n",
    "display(q1_lagrangian_equation)\n",
    "q1_lagrangian_equation = Equality(q1_lagrangian_equation.lhs / cart_accelerations_coefficients, q1_lagrangian_equation.rhs / cart_accelerations_coefficients).simplify()\n",
    "display(q1_lagrangian_equation)\n",
    "\n",
    "q2_lagrangian_equation = q2_lagrangian_equation.subs(cart_velocity.diff(), q1_lagrangian_equation.rhs).simplify()\n",
    "display(q1_lagrangian_equation)\n"
   ]
  },
  {
   "cell_type": "markdown",
   "metadata": {},
   "source": [
    "## Transforming Lagrange's equations\n",
    "\n",
    "Given following equations where **f** is cart momentum:\n",
    "\n",
    "$$\n",
    "- l m \\sin{\\left(\\theta \\right)} \\dot{\\theta}^{2} + l m \\cos{\\left(\\theta \\right)} \\ddot{\\theta} + m \\ddot{x} + m_{c} \\ddot{x} = f\n",
    "$$\n",
    "\n",
    "$$\n",
    "- g l m \\sin{\\left(\\theta \\right)} + i_{p} \\ddot{\\theta} + l^{2} m \\ddot{\\theta} + l m \\cos{\\left(\\theta \\right)} \\ddot{x} = 0\n",
    "$$\n",
    "\n",
    "\n",
    "Using given equations the $\\dot{X}$ will be derived:\n",
    "$$\n",
    "\\dot{X} = \n",
    "\\left[\\begin{matrix}\\dot{x}\\\\\\dot{\\theta}\\\\\\ddot{x}\\\\\\ddot{\\theta}\\end{matrix}\\right]\n",
    "$$\n",
    "\n",
    "\n",
    "Transforming second equation:\n",
    "\n",
    "$$\n",
    "- g l m \\sin{\\left(\\theta \\right)} + i_{p} \\ddot{\\theta} + l^{2} m \\ddot{\\theta} + l m \\cos{\\left(\\theta \\right)} \\ddot{x} = 0\n",
    "$$\n",
    "\n",
    "$$\n",
    "\\left(i_{p} + l^{2} m\\right) \\ddot{\\theta} = - l m \\left(- g \\sin{\\left(\\theta \\right)} + \\cos{\\left(\\theta \\right)} \\ddot{x}\\right)\n",
    "$$\n",
    "\n",
    "$$\n",
    "\\ddot{\\theta} = \\frac{l m \\left(g \\sin{\\left(\\theta \\right)} - \\cos{\\left(\\theta \\right)} \\ddot{x}\\right)}{i_{p} + l^{2} m}\n",
    "$$\n",
    "\n",
    "\n",
    "Transforming first equation and substitute second equation as $\\ddot{\\theta}$\n",
    "\n",
    "$$\n",
    "\\frac{l^{2} m^{2} \\left(g \\sin{\\left(\\theta \\right)} - \\cos{\\left(\\theta \\right)} \\ddot{x}\\right) \\cos{\\left(\\theta \\right)}}{i_{p} + l^{2} m} - l m \\sin{\\left(\\theta \\right)} \\dot{\\theta}^{2} + m \\ddot{x} + m_{c} \\ddot{x} = f\n",
    "$$\n",
    "\n",
    "$$\n",
    "- f + \\frac{l^{2} m^{2} \\left(g \\sin{\\left(\\theta \\right)} - \\cos{\\left(\\theta \\right)} \\ddot{x}\\right) \\cos{\\left(\\theta \\right)}}{i_{p} + l^{2} m} - l m \\sin{\\left(\\theta \\right)} \\dot{\\theta}^{2} + m \\ddot{x} + m_{c} \\ddot{x} = 0\n",
    "$$\n",
    "\n",
    "$$\n",
    "- f + \\frac{g l^{2} m^{2} \\sin{\\left(\\theta \\right)} \\cos{\\left(\\theta \\right)}}{i_{p} + l^{2} m} - \\frac{l^{2} m^{2} \\cos^{2}{\\left(\\theta \\right)} \\ddot{x}}{i_{p} + l^{2} m} - l m \\sin{\\left(\\theta \\right)} \\dot{\\theta}^{2} + m \\ddot{x} + m_{c} \\ddot{x} = 0\n",
    "$$\n",
    "$$\n",
    "- f + \\frac{g l^{2} m^{2} \\sin{\\left(\\theta \\right)} \\cos{\\left(\\theta \\right)}}{i_{p} + l^{2} m} - \\frac{l^{2} m^{2} \\cos^{2}{\\left(\\theta \\right)} \\ddot{x}}{i_{p} + l^{2} m} - l m \\sin{\\left(\\theta \\right)} \\dot{\\theta}^{2} + m \\ddot{x} + m_{c} \\ddot{x} - \\left(- \\frac{l^{2} m^{2} \\cos^{2}{\\left(\\theta \\right)}}{i_{p} + l^{2} m} + m + m_{c}\\right) \\ddot{x} = - \\left(- \\frac{l^{2} m^{2} \\cos^{2}{\\left(\\theta \\right)}}{i_{p} + l^{2} m} + m + m_{c}\\right) \\ddot{x}\n",
    "$$\n",
    "\n",
    "After substituting the $\\ddot{x}$ to the second equation we get:\n",
    "\n",
    "$$\n",
    "\\ddot{x} = - \\frac{- f i_{p} - f l^{2} m + \\frac{g l^{2} m^{2} \\sin{\\left(2 \\theta \\right)}}{2} - i_{p} l m \\sin{\\left(\\theta \\right)} \\dot{\\theta}^{2} - l^{3} m^{2} \\sin{\\left(\\theta \\right)} \\dot{\\theta}^{2}}{i_{p} m + i_{p} m_{c} + l^{2} m^{2} \\sin^{2}{\\left(\\theta \\right)} + l^{2} m m_{c}}\n",
    "$$\n",
    "\n",
    "$$\n",
    "\\ddot{\\theta} = \\frac{l m \\left(2 g \\left(i_{p} m + i_{p} m_{c} + l^{2} m^{2} \\sin^{2}{\\left(\\theta \\right)} + l^{2} m m_{c}\\right) \\sin{\\left(\\theta \\right)} - \\left(2 f i_{p} + 2 f l^{2} m - g l^{2} m^{2} \\sin{\\left(2 \\theta \\right)} + 2 i_{p} l m \\sin{\\left(\\theta \\right)} \\dot{\\theta}^{2} + 2 l^{3} m^{2} \\sin{\\left(\\theta \\right)} \\dot{\\theta}^{2}\\right) \\cos{\\left(\\theta \\right)}\\right)}{2 \\left(i_{p} + l^{2} m\\right) \\left(i_{p} m + i_{p} m_{c} + l^{2} m^{2} \\sin^{2}{\\left(\\theta \\right)} + l^{2} m m_{c}\\right)}\n",
    "$$\n",
    "\n",
    "\n",
    "We can rewrite it as:\n",
    "\n",
    "$$\n",
    "\n",
    "\\dot{X} = \n",
    "\\left[\\begin{matrix}\\dot{x}\\\\\\dot{\\theta}\\\\\\ddot{x}\\\\\\ddot{\\theta}\\end{matrix}\\right]\n",
    "= \\left[\\begin{matrix}\\dot{x}\\\\\\dot{\\theta}\\\\ - \\frac{- f i_{p} - f l^{2} m + \\frac{g l^{2} m^{2} \\sin{\\left(2 \\theta \\right)}}{2} - i_{p} l m \\sin{\\left(\\theta \\right)} \\dot{\\theta}^{2} - l^{3} m^{2} \\sin{\\left(\\theta \\right)} \\dot{\\theta}^{2}}{i_{p} m + i_{p} m_{c} + l^{2} m^{2} \\sin^{2}{\\left(\\theta \\right)} + l^{2} m m_{c}} \\\\ \n",
    "\\frac{l m \\left(2 g \\left(i_{p} m + i_{p} m_{c} + l^{2} m^{2} \\sin^{2}{\\left(\\theta \\right)} + l^{2} m m_{c}\\right) \\sin{\\left(\\theta \\right)} - \\left(2 f i_{p} + 2 f l^{2} m - g l^{2} m^{2} \\sin{\\left(2 \\theta \\right)} + 2 i_{p} l m \\sin{\\left(\\theta \\right)} \\dot{\\theta}^{2} + 2 l^{3} m^{2} \\sin{\\left(\\theta \\right)} \\dot{\\theta}^{2}\\right) \\cos{\\left(\\theta \\right)}\\right)}{2 \\left(i_{p} + l^{2} m\\right) \\left(i_{p} m + i_{p} m_{c} + l^{2} m^{2} \\sin^{2}{\\left(\\theta \\right)} + l^{2} m m_{c}\\right)} \\end{matrix}\\right]\n",
    "\n",
    "$$\n"
   ]
  },
  {
   "cell_type": "markdown",
   "metadata": {},
   "source": [
    "## Linearization in the equilibrium point\n",
    "\n",
    "### Calculate the jacobian in respect to state matrix and input function to obtain state matrix and input vector\n",
    "\n",
    "### Use 0 as value for the pole_angle/$\\theta$   \n"
   ]
  },
  {
   "cell_type": "code",
   "execution_count": null,
   "metadata": {},
   "outputs": [],
   "source": [
    "state_derivative = Matrix([cart_velocity, pole_angular_velocity, q1_lagrangian_equation.rhs.expand(), q2_lagrangian_equation.rhs.simplify()])\n",
    "state_matrix = state_derivative.jacobian([cart_position, pole_angle, cart_velocity, pole_angular_velocity]).subs(pole_angle, 0)\n",
    "input_matrix = state_derivative.jacobian([control_function]).subs(pole_angle, 0)\n",
    "\n",
    "display(simplify(Matrix(state_matrix)))\n",
    "display(simplify(Matrix(input_matrix)))"
   ]
  },
  {
   "cell_type": "markdown",
   "metadata": {},
   "source": [
    "## In result we get\n",
    "\n",
    "\n",
    "$$\n",
    "\n",
    "\\left[\\begin{matrix}\\dot{x}\\\\\\dot{\\theta}\\\\\\ddot{x}\\\\\\ddot{\\theta}\\end{matrix}\\right]\n",
    "= \n",
    "\\left[\\begin{matrix}0 & 0 & 1 & 0\\\\0 & 0 & 0 & 1\\\\0 & - \\frac{g l^{2} m^{2}}{i_{p} m + i_{p} m_{c} + l^{2} m m_{c}} & 0 & 0\\\\0 & \\frac{l m \\left(g m + g m_{c}\\right)}{i_{p} m + i_{p} m_{c} + l^{2} m m_{c}} & 0 & 0\\end{matrix}\\right]  \\left[\\begin{matrix}x\\\\\\theta\\\\\\dot{x}\\\\\\dot{\\theta}\\end{matrix}\\right] + \\left[\\begin{matrix}0\\\\0\\\\\\frac{i_{p} + l^{2} m}{i_{p} m + i_{p} m_{c} + l^{2} m m_{c}}\\\\- \\frac{l m}{i_{p} m + i_{p} m_{c} + l^{2} m m_{c}}\\end{matrix}\\right] f\n",
    "\n",
    "$$\n"
   ]
  },
  {
   "cell_type": "markdown",
   "metadata": {},
   "source": [
    "## Controller creation \n",
    "\n",
    "Using pole placement method to create controller."
   ]
  },
  {
   "cell_type": "code",
   "execution_count": 2,
   "metadata": {},
   "outputs": [],
   "source": [
    "import numpy as np\n",
    "import control\n",
    "from scipy.signal import lsim, lti\n",
    "import matplotlib.pyplot as plt\n",
    "\n",
    "def get_state_matrix(length_to_pendulums_center_mass, pendulum_mass_kg, cart_mass_kg, pole_inertia):\n",
    "    g = 9.81\n",
    "    return np.array(\n",
    "        [\n",
    "            [0, 0, 1, 0],\n",
    "            [0, 0, 0, 1],\n",
    "            [\n",
    "                0,\n",
    "                -g\n",
    "                * length_to_pendulums_center_mass**2\n",
    "                * pendulum_mass_kg**2\n",
    "                / (\n",
    "                    pole_inertia * cart_mass_kg\n",
    "                    + pole_inertia * pendulum_mass_kg\n",
    "                    + cart_mass_kg * length_to_pendulums_center_mass**2 * pendulum_mass_kg\n",
    "                ),\n",
    "                0,\n",
    "                0,\n",
    "            ],\n",
    "            [\n",
    "                0,\n",
    "                g\n",
    "                * length_to_pendulums_center_mass\n",
    "                * pendulum_mass_kg\n",
    "                * (cart_mass_kg + pendulum_mass_kg)\n",
    "                / (\n",
    "                    pole_inertia * cart_mass_kg\n",
    "                    + pole_inertia * pendulum_mass_kg\n",
    "                    + cart_mass_kg * length_to_pendulums_center_mass**2 * pendulum_mass_kg\n",
    "                ),\n",
    "                0,\n",
    "                0,\n",
    "            ],\n",
    "        ]\n",
    "    )\n",
    "\n",
    "\n",
    "def get_input_matrix(length_to_pendulums_center_mass, pendulum_mass_kg, cart_mass_kg, pole_inertia):\n",
    "    return np.array(\n",
    "        [\n",
    "            [0],\n",
    "            [0],\n",
    "            [\n",
    "                (-pole_inertia - length_to_pendulums_center_mass**2 * pendulum_mass_kg)\n",
    "                / (\n",
    "                    -pole_inertia * cart_mass_kg\n",
    "                    - pole_inertia * pendulum_mass_kg\n",
    "                    - cart_mass_kg * length_to_pendulums_center_mass**2 * pendulum_mass_kg\n",
    "                )\n",
    "            ],\n",
    "            [\n",
    "                length_to_pendulums_center_mass\n",
    "                * pendulum_mass_kg\n",
    "                / (\n",
    "                    -pole_inertia * cart_mass_kg\n",
    "                    - pole_inertia * pendulum_mass_kg\n",
    "                    - cart_mass_kg * length_to_pendulums_center_mass**2 * pendulum_mass_kg\n",
    "                )\n",
    "            ],\n",
    "        ]\n",
    "    )\n"
   ]
  },
  {
   "cell_type": "code",
   "execution_count": 3,
   "metadata": {},
   "outputs": [
    {
     "name": "stdout",
     "output_type": "stream",
     "text": [
      "Controllability matrix's rank: 4\n",
      "Eigen values of state matrix (A): [ 0.          0.          4.33373483 -4.33373483]\n"
     ]
    }
   ],
   "source": [
    "pendulum_mass_kg = 0.455\n",
    "cart_mass_kg = 1.006\n",
    "length_to_pendulums_center_mass = 0.435057\n",
    "pole_inertia = 0.044096\n",
    "\n",
    "state_matrix = get_state_matrix(length_to_pendulums_center_mass, pendulum_mass_kg, cart_mass_kg, pole_inertia)\n",
    "input_matrix = get_input_matrix(length_to_pendulums_center_mass, pendulum_mass_kg, cart_mass_kg, pole_inertia)\n",
    "controllability_matrix = control.ctrb(state_matrix, input_matrix)\n",
    "\n",
    "\n",
    "print(f\"Controllability matrix's rank: {np.linalg.matrix_rank(controllability_matrix, tol=1.0e-10)}\")\n",
    "print(f\"Eigen values of state matrix (A): {np.linalg.eigvals(state_matrix)}\")"
   ]
  },
  {
   "cell_type": "code",
   "execution_count": 4,
   "metadata": {},
   "outputs": [
    {
     "name": "stdout",
     "output_type": "stream",
     "text": [
      "Controller (K): [[ -1.86696764 -42.26984303  -3.88951591 -10.18982873]]\n",
      "System with new eigen values after adding controller: [-4. -3. -2. -1.]\n",
      "Controllability matrix's rank: 4\n"
     ]
    }
   ],
   "source": [
    "poles = [-1, -2, -3, -4]\n",
    "controller = control.place(state_matrix, input_matrix, poles)\n",
    "print(f\"Controller (K): {controller}\")\n",
    "\n",
    "state_matrix_new_eigen_values = state_matrix - input_matrix @ controller\n",
    "print(f\"System with new eigen values after adding controller: {np.linalg.eigvals(state_matrix_new_eigen_values)}\")\n",
    "\n",
    "controllability_matrix_with_new_eigen_values = control.ctrb(state_matrix_new_eigen_values, input_matrix)\n",
    "print(\n",
    "    f\"Controllability matrix's rank: {np.linalg.matrix_rank(controllability_matrix_with_new_eigen_values, tol=1.0e-10)}\"\n",
    ")"
   ]
  },
  {
   "cell_type": "code",
   "execution_count": 5,
   "metadata": {},
   "outputs": [
    {
     "name": "stdout",
     "output_type": "stream",
     "text": [
      "State: [0.5 0.1 0.  0.1]\n",
      "States to use in controller: [0 1 0 1]\n",
      "Controller with certain states being used: [[ -0.         -42.26984303  -0.         -10.18982873]]\n",
      "Controller's: [-5.24596718]\n"
     ]
    }
   ],
   "source": [
    "states_used_in_control_loop = np.array([0, 1, 0, 1])\n",
    "state_vector = np.array([0.5, 0.1, 0, 0.1])\n",
    "\n",
    "print(f\"State: {state_vector}\")\n",
    "print(f\"States to use in controller: {states_used_in_control_loop}\")\n",
    "print(f\"Controller with certain states being used: {controller * states_used_in_control_loop}\")\n",
    "print(f\"Controller's: {np.dot(controller * states_used_in_control_loop, state_vector)}\")"
   ]
  },
  {
   "cell_type": "code",
   "execution_count": 6,
   "metadata": {},
   "outputs": [
    {
     "data": {
      "image/png": "[encoded data removed]",
      "text/plain": [
       "<Figure size 640x480 with 1 Axes>"
      ]
     },
     "metadata": {},
     "output_type": "display_data"
    }
   ],
   "source": [
    "D = 0.0\n",
    "system = lti(state_matrix_new_eigen_values, input_matrix, states_used_in_control_loop, D)\n",
    "time = np.linspace(0, 50, num=200)\n",
    "u = np.ones_like(time)\n",
    "_, y, x = lsim(system, u, time)\n",
    "plt.plot(time, y)\n",
    "plt.grid(alpha=0.3)\n",
    "plt.xlabel(\"time\")\n",
    "plt.show()"
   ]
  }
 ],
 "metadata": {
  "kernelspec": {
   "display_name": "Python 3",
   "language": "python",
   "name": "python3"
  },
  "language_info": {
   "codemirror_mode": {
    "name": "ipython",
    "version": 3
   },
   "file_extension": ".py",
   "mimetype": "text/x-python",
   "name": "python",
   "nbconvert_exporter": "python",
   "pygments_lexer": "ipython3",
   "version": "3.10.12"
  }
 },
 "nbformat": 4,
 "nbformat_minor": 2
}
